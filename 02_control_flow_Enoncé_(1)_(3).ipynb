{
 "cells": [
  {
   "cell_type": "markdown",
   "metadata": {
    "id": "WVJKIPqC4R-J"
   },
   "source": [
    "# Python the basics: control flows\n",
    "\n",
    "> *DS Data manipulation, analysis and visualisation in Python*  \n",
    "> *September, 2020*\n"
   ]
  },
  {
   "cell_type": "markdown",
   "metadata": {
    "id": "p0-5s3I84R-h"
   },
   "source": [
    "## Control flow"
   ]
  },
  {
   "cell_type": "markdown",
   "metadata": {
    "id": "XqljSQsD4R-l"
   },
   "source": [
    "### if / elif / else"
   ]
  },
  {
   "cell_type": "markdown",
   "metadata": {
    "id": "CXDfU9P44R-n"
   },
   "source": [
    "**Synthax**\n",
    "> if (boolean expression):\n",
    "\n",
    ">     do this if true \n",
    "\n",
    "> elif (boolean expression):\n",
    "\n",
    ">     do this if this is true and if condition is false\n",
    "\n",
    "> else:\n",
    "\n",
    ">     in all other cases\n",
    "\n",
    "**Blocks are delimited by indentation**\n",
    "\n",
    "Be careful to respect the indentation depth. The Ipython shell automatically increases the indentation depth after a column : sign; to decrease the indentation depth, go four spaces to the left with the Backspace key. Press the Enter key twice to leave the logical block."
   ]
  },
  {
   "cell_type": "raw",
   "metadata": {
    "id": "tLnvJYcn4R-q"
   },
   "source": [
    "> syntax:\n",
    "\n",
    "> if (boolean expression):\n",
    "\n",
    ">     do this if true "
   ]
  },
  {
   "cell_type": "code",
   "execution_count": null,
   "metadata": {
    "colab": {
     "base_uri": "https://localhost:8080/"
    },
    "id": "QRLZwzTwjZfg",
    "outputId": "749cb977-23e8-4d5a-9229-45723e545e2e"
   },
   "outputs": [
    {
     "name": "stdout",
     "output_type": "stream",
     "text": [
      "8\n"
     ]
    }
   ],
   "source": [
    "an_int = input() #### Saisie d'une valeur par l'utilisateur"
   ]
  },
  {
   "cell_type": "code",
   "execution_count": null,
   "metadata": {
    "colab": {
     "base_uri": "https://localhost:8080/"
    },
    "id": "kYZ8PMKFjojM",
    "outputId": "7d02ac45-fd7c-4b74-b2e1-e1cb3428b13e"
   },
   "outputs": [
    {
     "name": "stdout",
     "output_type": "stream",
     "text": [
      "Variable   Type    Data/Info\n",
      "----------------------------\n",
      "an_int     str     8\n"
     ]
    }
   ],
   "source": [
    "%whos"
   ]
  },
  {
   "cell_type": "code",
   "execution_count": null,
   "metadata": {
    "colab": {
     "base_uri": "https://localhost:8080/"
    },
    "id": "e9jaFXz7j0Ps",
    "outputId": "986ff091-130a-44d8-9100-0242386e19bd"
   },
   "outputs": [
    {
     "name": "stdout",
     "output_type": "stream",
     "text": [
      "4\n"
     ]
    },
    {
     "data": {
      "text/plain": [
       "4"
      ]
     },
     "execution_count": 3,
     "metadata": {},
     "output_type": "execute_result"
    }
   ],
   "source": [
    "an_int2 = int(input()) #### Transformer le type en int\n",
    "an_int2"
   ]
  },
  {
   "cell_type": "code",
   "execution_count": null,
   "metadata": {
    "colab": {
     "base_uri": "https://localhost:8080/"
    },
    "id": "tHIwI3MZj-7L",
    "outputId": "f8d4a731-862a-4645-94aa-d27dd638c01f"
   },
   "outputs": [
    {
     "name": "stdout",
     "output_type": "stream",
     "text": [
      "Variable   Type    Data/Info\n",
      "----------------------------\n",
      "an_int     str     8\n",
      "an_int2    int     4\n"
     ]
    }
   ],
   "source": [
    "%whos"
   ]
  },
  {
   "cell_type": "code",
   "execution_count": null,
   "metadata": {
    "colab": {
     "base_uri": "https://localhost:8080/"
    },
    "id": "9Y_KkrTu4R-s",
    "outputId": "6b8eedeb-fba0-4c7f-f79b-dc6a1411bd92",
    "run_control": {
     "frozen": false,
     "read_only": false
    }
   },
   "outputs": [
    {
     "name": "stdout",
     "output_type": "stream",
     "text": [
      "8\n",
      "Un autre nombre\n"
     ]
    }
   ],
   "source": [
    "#an_int = 2\n",
    "an_int = int(input()) ##### Saisir un nombre\n",
    "\n",
    "if an_int == 1: #### Cas 1:  Si an_int == 1 alors\n",
    "    print(\"La variable est égale à 1\") #### Action: Afficher la str LA variable est égale à 1\n",
    "elif an_int == 2: #### Cas 2: Si an_int ==1 alors \n",
    "     print(\"La variable est égale à 2\") #### Action: Afficher la str LA variable est égale à 2\n",
    "elif an_int == 3: #### Cas 3: Si an_int ==1 alors \n",
    "     print(\"La variable est égale à 3\") #### Action: Afficher la str LA variable est égale à 3     \n",
    "else: #### Si nous ne sommes si dans le cas 1 ni dans le cas 2:\n",
    "    print('Un autre nombre') #### Action: Afficher la str \"une autre nombre\""
   ]
  },
  {
   "cell_type": "markdown",
   "metadata": {
    "id": "B2nrOKQ24R-4"
   },
   "source": [
    "### for / range"
   ]
  },
  {
   "cell_type": "markdown",
   "metadata": {
    "id": "toghpwAd4R-8"
   },
   "source": [
    "iterating can be over indices (ints) or over values"
   ]
  },
  {
   "cell_type": "code",
   "execution_count": null,
   "metadata": {
    "colab": {
     "base_uri": "https://localhost:8080/"
    },
    "id": "jMvhiX4R4R_A",
    "outputId": "79db3714-cadb-43b7-9066-a61444895653",
    "run_control": {
     "frozen": false,
     "read_only": false
    }
   },
   "outputs": [
    {
     "name": "stdout",
     "output_type": "stream",
     "text": [
      "0\n",
      "1\n",
      "2\n",
      "3\n"
     ]
    }
   ],
   "source": [
    "for index in range(0,4): #### Boucle for: Premier manière\n",
    "    print(index)"
   ]
  },
  {
   "cell_type": "code",
   "execution_count": null,
   "metadata": {
    "colab": {
     "base_uri": "https://localhost:8080/"
    },
    "id": "JlCNLvucl1Hp",
    "outputId": "4f6ed3a0-4f5a-426c-9cdf-b365894c838d"
   },
   "outputs": [
    {
     "name": "stdout",
     "output_type": "stream",
     "text": [
      "1\n",
      "2\n",
      "3\n",
      "4\n",
      "Hello\n"
     ]
    }
   ],
   "source": [
    "numbers = [1, 2,3, 4, \"Hello\"]\n",
    "for number in numbers: #### Boucle for: Premier manière\n",
    "    print(number)"
   ]
  },
  {
   "cell_type": "code",
   "execution_count": null,
   "metadata": {
    "colab": {
     "base_uri": "https://localhost:8080/"
    },
    "id": "teuhJnK7lmrJ",
    "outputId": "6ddcfff3-aeb5-40f0-f644-84711761dde6"
   },
   "outputs": [
    {
     "name": "stdout",
     "output_type": "stream",
     "text": [
      "Python is cool!\n",
      "Python is powerful!\n",
      "Python is readable!\n"
     ]
    }
   ],
   "source": [
    "for word in ('cool', 'powerful', 'readable'):\n",
    "    # remember string formatting?\n",
    "    print('Python is {}!'.format(word))"
   ]
  },
  {
   "cell_type": "markdown",
   "metadata": {
    "id": "MWmimv-k4R_D"
   },
   "source": [
    "### while"
   ]
  },
  {
   "cell_type": "markdown",
   "metadata": {
    "id": "nwnz2Zld4R_J"
   },
   "source": [
    "Typical C-style while loop"
   ]
  },
  {
   "cell_type": "code",
   "execution_count": null,
   "metadata": {
    "colab": {
     "base_uri": "https://localhost:8080/"
    },
    "id": "I9J0btW9mgm7",
    "outputId": "7fabc8cd-c7c5-4ab4-9a68-13003ffcabee"
   },
   "outputs": [
    {
     "name": "stdout",
     "output_type": "stream",
     "text": [
      "0\n",
      "1\n",
      "2\n",
      "3\n",
      "4\n"
     ]
    }
   ],
   "source": [
    "for i in range(0,5): ### Définition du point de départ et d'arrivé\n",
    "  print(i)"
   ]
  },
  {
   "cell_type": "code",
   "execution_count": null,
   "metadata": {
    "colab": {
     "base_uri": "https://localhost:8080/"
    },
    "id": "ZhbDddqrn7m1",
    "outputId": "8adbc0de-169a-4982-816b-e032ccd93fa6"
   },
   "outputs": [
    {
     "data": {
      "text/plain": [
       "False"
      ]
     },
     "execution_count": 16,
     "metadata": {},
     "output_type": "execute_result"
    }
   ],
   "source": [
    "10 < 10"
   ]
  },
  {
   "cell_type": "code",
   "execution_count": null,
   "metadata": {
    "colab": {
     "base_uri": "https://localhost:8080/"
    },
    "id": "pOFjpA4bmqB1",
    "outputId": "f4ae50f9-36aa-4253-c078-f7ccb6d3a0c5"
   },
   "outputs": [
    {
     "name": "stdout",
     "output_type": "stream",
     "text": [
      "0\n",
      "1\n",
      "2\n",
      "3\n",
      "4\n",
      "5\n",
      "6\n",
      "7\n",
      "8\n",
      "9\n"
     ]
    }
   ],
   "source": [
    "i = 0\n",
    "\n",
    "while (i < 10): #### Condition d'arrêt (True)\n",
    "  print(i) ### Action: Afficher i (i = i+1) ### A chaque iteration \n",
    "  i = i + 1 #### A chaque iteration, j'ajoute 1"
   ]
  },
  {
   "cell_type": "code",
   "execution_count": null,
   "metadata": {
    "colab": {
     "base_uri": "https://localhost:8080/"
    },
    "id": "MZ1vz0psqHzv",
    "outputId": "7b989b7d-9ed5-4863-a3ba-b07d0e95da30"
   },
   "outputs": [
    {
     "data": {
      "text/plain": [
       "1.4142135623730951"
      ]
     },
     "execution_count": 27,
     "metadata": {},
     "output_type": "execute_result"
    }
   ],
   "source": [
    "z = 1 + 1j\n",
    "abs(z)"
   ]
  },
  {
   "cell_type": "code",
   "execution_count": null,
   "metadata": {
    "colab": {
     "base_uri": "https://localhost:8080/"
    },
    "id": "Dhl_K_li4R_K",
    "outputId": "13f0aa71-d53e-4f9c-b787-8f6ea662da48",
    "run_control": {
     "frozen": false,
     "read_only": false
    }
   },
   "outputs": [
    {
     "name": "stdout",
     "output_type": "stream",
     "text": [
      "2.23606797749979\n",
      "(1+2j)\n",
      "4.47213595499958\n",
      "(-2+4j)\n",
      "19.4164878389476\n",
      "(-11-16j)\n",
      "376.64306710730784\n",
      "(-134+352j)\n",
      "(-134+352j)\n"
     ]
    }
   ],
   "source": [
    "\n",
    "# Mandelbrot problem\n",
    "while abs(z) < 100: #### Tant que le module est < 100\n",
    "    z = z**2 + 1 #### z = Z**2 +1\n",
    "    print(abs(z))\n",
    "    print(z)\n",
    "print(z)"
   ]
  },
  {
   "cell_type": "markdown",
   "metadata": {
    "id": "HbXPc_b14R_M"
   },
   "source": [
    "### break / continue"
   ]
  },
  {
   "cell_type": "markdown",
   "metadata": {
    "id": "kJnOn3IZ4R_N"
   },
   "source": [
    "*break* out of enclosing for/while loop"
   ]
  },
  {
   "cell_type": "code",
   "execution_count": null,
   "metadata": {
    "colab": {
     "base_uri": "https://localhost:8080/"
    },
    "id": "-xBM4Enc4R_P",
    "outputId": "e34210bf-d0b3-4b69-bba3-65a561b6bc20",
    "run_control": {
     "frozen": false,
     "read_only": false
    }
   },
   "outputs": [
    {
     "name": "stdout",
     "output_type": "stream",
     "text": [
      "(1+2j)\n",
      "2.23606797749979\n",
      "(-2+4j)\n",
      "4.47213595499958\n",
      "(-11-16j)\n",
      "19.4164878389476\n",
      "(-11-16j)\n"
     ]
    }
   ],
   "source": [
    "z = 1 + 1j\n",
    "# Mandelbrot problem\n",
    "while abs(z) < 100: #### COndition d'arret\n",
    "    # breaks if imaginary part is negative\n",
    "    if z.imag < 0: #### SI ma partie imaginaire est négative\n",
    "        break #### sortie de la boucle\n",
    "    z = z**2 + 1\n",
    "    print(z)\n",
    "    print(abs(z))\n",
    "print(z)"
   ]
  },
  {
   "cell_type": "markdown",
   "metadata": {
    "id": "L-yqicBh4R_S"
   },
   "source": [
    "*continue* the next iteration of a loop"
   ]
  },
  {
   "cell_type": "code",
   "execution_count": null,
   "metadata": {
    "colab": {
     "base_uri": "https://localhost:8080/"
    },
    "id": "6lr0jFtB4R_U",
    "outputId": "79aa87f9-de13-4c8b-ec76-ba8302fc50d4",
    "run_control": {
     "frozen": false,
     "read_only": false
    }
   },
   "outputs": [
    {
     "name": "stdout",
     "output_type": "stream",
     "text": [
      "printing the inverse of the integers, excluding division by zero\n",
      "1.0\n",
      "0.5\n",
      "0.25\n"
     ]
    }
   ],
   "source": [
    "aList = [1, 0, 2, 4]\n",
    "print('printing the inverse of the integers, excluding division by zero')\n",
    "for element in aList: #### POur chaque elemnt de l'objet\n",
    "    if element == 0: #### Si l'element ==0\n",
    "        continue #### mot clé continue : PAsser au nombre d'apres\n",
    "    print(1. / element)"
   ]
  },
  {
   "cell_type": "markdown",
   "metadata": {
    "id": "gZa2JGjo4R_V"
   },
   "source": [
    "### conditional expressions"
   ]
  },
  {
   "cell_type": "markdown",
   "metadata": {
    "id": "CnzEfq4V4R_X"
   },
   "source": [
    "> if < OBJECT > :\n",
    "\n",
    "\n",
    "Evaluates to False:\n",
    "\n",
    "* any number equal to zero (0, 0.0, 0+0j)\n",
    "* an empty container (list, tuple, set, dictionary, ...)\n",
    "* False, None\n",
    "\n",
    "Evaluates to True:\n",
    "\n",
    "* everything else\n",
    "\n"
   ]
  },
  {
   "cell_type": "markdown",
   "metadata": {
    "id": "J7hZii184R_Z"
   },
   "source": [
    "> a == b\n",
    "\n",
    "Tests equality, with logics"
   ]
  },
  {
   "cell_type": "code",
   "execution_count": null,
   "metadata": {
    "colab": {
     "base_uri": "https://localhost:8080/"
    },
    "id": "bl3Uih7d4R_a",
    "outputId": "60c8619d-a327-4d00-cc05-896b89b8cb3d",
    "run_control": {
     "frozen": false,
     "read_only": false
    }
   },
   "outputs": [
    {
     "data": {
      "text/plain": [
       "True"
      ]
     },
     "execution_count": 31,
     "metadata": {},
     "output_type": "execute_result"
    }
   ],
   "source": [
    "1 == 1"
   ]
  },
  {
   "cell_type": "markdown",
   "metadata": {
    "id": "Mh27BtKk4R_c"
   },
   "source": [
    "> a is b:\n",
    "\n",
    "Tests identity: both sides are the **same object**"
   ]
  },
  {
   "cell_type": "code",
   "execution_count": null,
   "metadata": {
    "colab": {
     "base_uri": "https://localhost:8080/"
    },
    "id": "2ECwYVPi4R_e",
    "outputId": "52745cb6-985c-4317-da0b-02612b01187e",
    "run_control": {
     "frozen": false,
     "read_only": false
    }
   },
   "outputs": [
    {
     "name": "stdout",
     "output_type": "stream",
     "text": [
      "False\n",
      "True\n"
     ]
    }
   ],
   "source": [
    "print(1 is 1.)\n",
    "a = 1\n",
    "b = 1 \n",
    "print (a is b)"
   ]
  },
  {
   "cell_type": "markdown",
   "metadata": {
    "id": "euYTqotH4R_g"
   },
   "source": [
    "> a in b:\n",
    "\n",
    "For any collection b: b contains a\n",
    "\n",
    "If b is a dictionary, this tests that a is a key of b."
   ]
  },
  {
   "cell_type": "code",
   "execution_count": null,
   "metadata": {
    "colab": {
     "base_uri": "https://localhost:8080/"
    },
    "id": "ovpmrw7g4R_g",
    "outputId": "fc0afefd-e1c3-412e-f267-cdf5f3f84bfe",
    "run_control": {
     "frozen": false,
     "read_only": false
    }
   },
   "outputs": [
    {
     "data": {
      "text/plain": [
       "True"
      ]
     },
     "execution_count": 34,
     "metadata": {},
     "output_type": "execute_result"
    }
   ],
   "source": [
    "a_list = [1, 2, 3]\n",
    "2 in a_list ### ? 2 est dans l'objet"
   ]
  },
  {
   "cell_type": "code",
   "execution_count": null,
   "metadata": {
    "colab": {
     "base_uri": "https://localhost:8080/"
    },
    "id": "12kJcYGQ4R_h",
    "outputId": "5f0c6d1f-fbcf-4a05-88b3-66510e70a1e5",
    "run_control": {
     "frozen": false,
     "read_only": false
    }
   },
   "outputs": [
    {
     "data": {
      "text/plain": [
       "False"
      ]
     },
     "execution_count": 35,
     "metadata": {},
     "output_type": "execute_result"
    }
   ],
   "source": [
    "'ae' in a_list"
   ]
  },
  {
   "cell_type": "code",
   "execution_count": null,
   "metadata": {
    "id": "U9hGpOFj4R_j",
    "run_control": {
     "frozen": false,
     "read_only": false
    }
   },
   "outputs": [],
   "source": [
    "3. in a_list"
   ]
  },
  {
   "cell_type": "code",
   "execution_count": null,
   "metadata": {
    "colab": {
     "base_uri": "https://localhost:8080/"
    },
    "id": "C0qcy4LL4R_n",
    "outputId": "158e433c-494c-47f5-a656-790be76b0ed2",
    "run_control": {
     "frozen": false,
     "read_only": false
    }
   },
   "outputs": [
    {
     "data": {
      "text/plain": [
       "True"
      ]
     },
     "execution_count": 37,
     "metadata": {},
     "output_type": "execute_result"
    }
   ],
   "source": [
    "a_dict = {'theKey' : 'theValue'}\n",
    "'theKey' in a_dict #### ? cette clé dans le dictionnaire : True"
   ]
  },
  {
   "cell_type": "code",
   "execution_count": null,
   "metadata": {
    "colab": {
     "base_uri": "https://localhost:8080/"
    },
    "id": "bI6A7k5X4R_p",
    "outputId": "72dbd1d5-2d98-4125-883c-f7cd050f868c",
    "run_control": {
     "frozen": false,
     "read_only": false
    }
   },
   "outputs": [
    {
     "data": {
      "text/plain": [
       "False"
      ]
     },
     "execution_count": 39,
     "metadata": {},
     "output_type": "execute_result"
    }
   ],
   "source": [
    "'theValue' in a_dict #### False"
   ]
  },
  {
   "cell_type": "code",
   "execution_count": null,
   "metadata": {
    "id": "TBF6BoL74R_q",
    "run_control": {
     "frozen": false,
     "read_only": false
    }
   },
   "outputs": [],
   "source": [
    "dd = {'antea': 3, 'IMDC': 2, 'arcadis': 4, 'witteveen': 5, 'grontmij': 1}"
   ]
  },
  {
   "cell_type": "markdown",
   "metadata": {
    "id": "KgA5jfVf4R_r"
   },
   "source": [
    "<div class=\"alert alert-success\">\n",
    "    <b>EXERCISE</b>: Return the key of an item in the dictionary `dd` if the value is provided (assume that the user is always providing a value that is part of the dictionary and all values only occur once). Make sure the returned key is formatted as capitals and use `value=3` to test:\n",
    "</div>"
   ]
  },
  {
   "cell_type": "code",
   "execution_count": null,
   "metadata": {
    "id": "kj5T_amp4R_w"
   },
   "outputs": [],
   "source": [
    "value = 3 #### value définie à 3"
   ]
  },
  {
   "cell_type": "code",
   "execution_count": null,
   "metadata": {
    "colab": {
     "base_uri": "https://localhost:8080/",
     "height": 35
    },
    "id": "ZWc8lZfT4R_x",
    "outputId": "393631a6-0f21-4e96-d7b8-c4b66e188478"
   },
   "outputs": [
    {
     "data": {
      "application/vnd.google.colaboratory.intrinsic+json": {
       "type": "string"
      },
      "text/plain": [
       "'A'"
      ]
     },
     "execution_count": 42,
     "metadata": {},
     "output_type": "execute_result"
    }
   ],
   "source": [
    "#### Afficher u str en maj\n",
    "\n",
    "#### POur chaque element du dictionnaire (clé)\n",
    "#### Si la valeur de la clé vaut value alors \n",
    "#### Passe en majuscule la clé\n",
    "\n",
    "\"a\".upper()"
   ]
  },
  {
   "cell_type": "code",
   "execution_count": null,
   "metadata": {
    "colab": {
     "base_uri": "https://localhost:8080/"
    },
    "id": "IPITrMoFwtwY",
    "outputId": "0ca7ae9d-148c-436a-eab3-9f9a6df92128"
   },
   "outputs": [
    {
     "data": {
      "text/plain": [
       "{'IMDC': 2, 'antea': 3, 'arcadis': 4, 'grontmij': 1, 'witteveen': 5}"
      ]
     },
     "execution_count": 43,
     "metadata": {},
     "output_type": "execute_result"
    }
   ],
   "source": [
    "dd"
   ]
  },
  {
   "cell_type": "code",
   "execution_count": null,
   "metadata": {
    "colab": {
     "base_uri": "https://localhost:8080/"
    },
    "id": "ijCnuM8vw66o",
    "outputId": "9234d3ee-ce2e-4e27-8535-ae87146ed54a"
   },
   "outputs": [
    {
     "data": {
      "text/plain": [
       "2"
      ]
     },
     "execution_count": 45,
     "metadata": {},
     "output_type": "execute_result"
    }
   ],
   "source": [
    "dd[\"IMDC\"]"
   ]
  },
  {
   "cell_type": "code",
   "execution_count": null,
   "metadata": {
    "colab": {
     "base_uri": "https://localhost:8080/"
    },
    "id": "oTrPg_DlwvWV",
    "outputId": "34b8532a-9fd8-4803-88b5-fc29fb37cecb"
   },
   "outputs": [
    {
     "name": "stdout",
     "output_type": "stream",
     "text": [
      "ANTEA\n"
     ]
    }
   ],
   "source": [
    "for ele in dd:\n",
    "  #print(ele)\n",
    "  if dd[ele] == value:\n",
    "    print(ele.upper())"
   ]
  },
  {
   "cell_type": "code",
   "execution_count": null,
   "metadata": {
    "colab": {
     "base_uri": "https://localhost:8080/"
    },
    "id": "5Wkmh0kLtv1x",
    "outputId": "49cbe244-f1b6-4039-cc09-a35c6e06ca1d"
   },
   "outputs": [
    {
     "name": "stdout",
     "output_type": "stream",
     "text": [
      "ANTEA\n",
      "La valeur saisie n'est pas celle définie dans value\n",
      "La valeur saisie n'est pas celle définie dans value\n",
      "La valeur saisie n'est pas celle définie dans value\n",
      "La valeur saisie n'est pas celle définie dans value\n"
     ]
    }
   ],
   "source": [
    "for ele in dd: ### Pour chque éle du dictionnaire, j'affche les clés\n",
    "    if dd[ele] ==value: ### Si la valeur dela clé est égale à value alors j'affiche la clé et je passe cela en majuscule\n",
    "        print(ele.upper())### Passer le tout en capital\n",
    "    #else:\n",
    "        #print(\"La valeur saisie n'est pas celle définie dans value\")"
   ]
  },
  {
   "cell_type": "code",
   "execution_count": null,
   "metadata": {
    "colab": {
     "base_uri": "https://localhost:8080/"
    },
    "id": "KrQB2SOCtv1x",
    "outputId": "3468f45d-97f8-47c1-9f4e-00eb89430304"
   },
   "outputs": [
    {
     "data": {
      "text/plain": [
       "['ANTEA']"
      ]
     },
     "execution_count": 49,
     "metadata": {},
     "output_type": "execute_result"
    }
   ],
   "source": [
    "value = 3\n",
    "\n",
    "[ele.upper() for ele in dd if dd[ele] ==value] #### Liste de compréhension"
   ]
  },
  {
   "cell_type": "code",
   "execution_count": null,
   "metadata": {
    "colab": {
     "base_uri": "https://localhost:8080/",
     "height": 35
    },
    "id": "CmLCsVCMtv1y",
    "outputId": "a0ccce00-1633-48b5-aa82-a9a9b665253d"
   },
   "outputs": [
    {
     "data": {
      "application/vnd.google.colaboratory.intrinsic+json": {
       "type": "string"
      },
      "text/plain": [
       "'ANTEA'"
      ]
     },
     "execution_count": 50,
     "metadata": {},
     "output_type": "execute_result"
    }
   ],
   "source": [
    "\"antea\".upper() ### antea --> Majuscule"
   ]
  },
  {
   "cell_type": "code",
   "execution_count": null,
   "metadata": {
    "id": "XxNbXIlNvida"
   },
   "outputs": [],
   "source": [
    "#### Correction"
   ]
  },
  {
   "cell_type": "code",
   "execution_count": null,
   "metadata": {
    "id": "wNzw7JUQvivg"
   },
   "outputs": [],
   "source": [
    ""
   ]
  },
  {
   "cell_type": "markdown",
   "metadata": {
    "id": "cnfTpxga4R_y"
   },
   "source": [
    "<div class=\"alert alert-success\">\n",
    "    <b>EXERCISE</b>: Given the dictionary `dd`, check if a key is already existing in the dictionary and print a message `already in dictionary`. Use 'antea' as string to check for.\n",
    "</div>"
   ]
  },
  {
   "cell_type": "code",
   "execution_count": null,
   "metadata": {
    "id": "jdgfNRxn4R_z"
   },
   "outputs": [],
   "source": [
    "#### Opérateur in"
   ]
  },
  {
   "cell_type": "code",
   "execution_count": null,
   "metadata": {
    "colab": {
     "base_uri": "https://localhost:8080/"
    },
    "id": "bVJg0fNItv17",
    "outputId": "634c7bca-2138-46a5-8827-9eea4f9d0941"
   },
   "outputs": [
    {
     "data": {
      "text/plain": [
       "False"
      ]
     },
     "execution_count": 15,
     "metadata": {},
     "output_type": "execute_result"
    }
   ],
   "source": [
    "\"hello\" in dd.keys() #### True ou False"
   ]
  },
  {
   "cell_type": "code",
   "execution_count": null,
   "metadata": {
    "colab": {
     "base_uri": "https://localhost:8080/"
    },
    "id": "1MCvNw9qtv17",
    "outputId": "973715a8-f950-43a2-a0ce-8312463bd748"
   },
   "outputs": [
    {
     "name": "stdout",
     "output_type": "stream",
     "text": [
      "In the dictionary\n"
     ]
    }
   ],
   "source": [
    "if \"antea\" in dd.keys(): #### Si la str est dans l'ensemble des clés du dictionnaire\n",
    "    print(\"In the dictionary\")  #### Affiche la chiane de caractère suivante \"In the dictionary\"\n",
    "else:\n",
    "    print(\"Not in the dictionnary\") "
   ]
  },
  {
   "cell_type": "code",
   "execution_count": null,
   "metadata": {
    "colab": {
     "base_uri": "https://localhost:8080/"
    },
    "id": "jjiUc6Zntv18",
    "outputId": "5ce71b9d-6342-4282-c5d4-0536370e0471"
   },
   "outputs": [
    {
     "name": "stdout",
     "output_type": "stream",
     "text": [
      "In the dictionary\n"
     ]
    }
   ],
   "source": [
    "if 'antea' in dd.keys(): #### Si la str est dans l'ensemble des clés du dictionnaire\n",
    "    print(\"In the dictionary\") #### Affiche la chiane de caractère suivante \"In the dictionary\""
   ]
  },
  {
   "cell_type": "markdown",
   "metadata": {
    "id": "kQgnEhFl4R_0"
   },
   "source": [
    "------------------------"
   ]
  },
  {
   "cell_type": "markdown",
   "metadata": {
    "id": "iE3xUEM44R_1"
   },
   "source": [
    "## Advanced iteration"
   ]
  },
  {
   "cell_type": "markdown",
   "metadata": {
    "id": "4DusRR8E4R_6"
   },
   "source": [
    "#### Iterate over any sequence"
   ]
  },
  {
   "cell_type": "markdown",
   "metadata": {
    "id": "jY2rLlOB4R_9"
   },
   "source": [
    "You can iterate over any sequence (string, list, keys in a dictionary, lines in a file, ...)"
   ]
  },
  {
   "cell_type": "code",
   "execution_count": null,
   "metadata": {
    "id": "ExhtjH8P4R_-",
    "run_control": {
     "frozen": false,
     "read_only": false
    }
   },
   "outputs": [],
   "source": [
    "vowels = 'aeiouy'\n",
    "for i in 'powerful':\n",
    "    if i in vowels:\n",
    "        print(i)"
   ]
  },
  {
   "cell_type": "code",
   "execution_count": null,
   "metadata": {
    "id": "nLiaoa9O4SAA",
    "run_control": {
     "frozen": false,
     "read_only": false
    }
   },
   "outputs": [],
   "source": [
    "message = \"Hello how are you?\"\n",
    "message.split() # returns a list\n",
    "for word in message.split():\n",
    "    print(word)    "
   ]
  },
  {
   "cell_type": "markdown",
   "metadata": {
    "id": "jPnkqubw4SAB"
   },
   "source": [
    "Few languages (in particular, languages for scientific computing) allow to loop over anything but integers/indices. With Python it is possible to loop exactly over the objects of interest without bothering with indices you often don’t care about. This feature can often be used to make code more readable."
   ]
  },
  {
   "cell_type": "markdown",
   "metadata": {
    "id": "k2ksTxQH4SAE"
   },
   "source": [
    "#### Keeping track of enumeration number"
   ]
  },
  {
   "cell_type": "markdown",
   "metadata": {
    "id": "vAsy_EZ84SAF"
   },
   "source": [
    "Common task is to iterate over a sequence while keeping track of the item number.\n",
    "* Could use while loop with a counter as above. Or a for loop:"
   ]
  },
  {
   "cell_type": "code",
   "execution_count": null,
   "metadata": {
    "id": "gut572M14SAG",
    "run_control": {
     "frozen": false,
     "read_only": false
    }
   },
   "outputs": [],
   "source": [
    "words = ('cool', 'powerful', 'readable')\n",
    "for i in range(0, len(words)):\n",
    "    print(i, words[i])"
   ]
  },
  {
   "cell_type": "markdown",
   "metadata": {
    "id": "_DkaS6x-4SAI"
   },
   "source": [
    "* But, Python provides enumerate keyword for this:"
   ]
  },
  {
   "cell_type": "code",
   "execution_count": null,
   "metadata": {
    "id": "BZid12DN4SAK",
    "run_control": {
     "frozen": false,
     "read_only": false
    }
   },
   "outputs": [],
   "source": [
    "for index, item in enumerate(words):\n",
    "    print(index, item)"
   ]
  },
  {
   "cell_type": "markdown",
   "metadata": {
    "id": "D3MfpJGg4SAL"
   },
   "source": [
    "Or combine elements of two containers:"
   ]
  },
  {
   "cell_type": "code",
   "execution_count": null,
   "metadata": {
    "id": "C2zOfILn4SAP",
    "run_control": {
     "frozen": false,
     "read_only": false
    }
   },
   "outputs": [],
   "source": [
    "tea = 'tea'\n",
    "for word, let in zip(words, tea):\n",
    "    print(word, let)"
   ]
  },
  {
   "cell_type": "markdown",
   "metadata": {
    "id": "9VigHxym4SAR"
   },
   "source": [
    "This can be extended with more iterating options (check the itertools! http://pymotw.com/2/itertools/ !)"
   ]
  },
  {
   "cell_type": "markdown",
   "metadata": {
    "id": "Hcy-MNsT4SAR"
   },
   "source": [
    "#### Looping over dictionary"
   ]
  },
  {
   "cell_type": "markdown",
   "metadata": {
    "id": "8MRRKuCa4SAS"
   },
   "source": [
    "use **items()**"
   ]
  },
  {
   "cell_type": "code",
   "execution_count": null,
   "metadata": {
    "colab": {
     "base_uri": "https://localhost:8080/"
    },
    "id": "qPWgjcrQieqN",
    "outputId": "eb33ed5a-be3e-425b-e3dc-093423b431ee"
   },
   "outputs": [
    {
     "data": {
      "text/plain": [
       "{'One': 1, 'Three': 3, 'Two': 2}"
      ]
     },
     "execution_count": 5,
     "metadata": {},
     "output_type": "execute_result"
    }
   ],
   "source": [
    "a_dict = {'One': 1, 'Two':2, 'Three':3}\n",
    "a_dict"
   ]
  },
  {
   "cell_type": "code",
   "execution_count": null,
   "metadata": {
    "colab": {
     "base_uri": "https://localhost:8080/"
    },
    "id": "r_F3fP_Diim6",
    "outputId": "7af3914e-184d-4ac2-92f2-457973dcd280"
   },
   "outputs": [
    {
     "data": {
      "text/plain": [
       "dict_keys(['One', 'Two', 'Three'])"
      ]
     },
     "execution_count": 6,
     "metadata": {},
     "output_type": "execute_result"
    }
   ],
   "source": [
    "a_dict.keys() #### Ensemble des clés du dictinnnaire"
   ]
  },
  {
   "cell_type": "code",
   "execution_count": null,
   "metadata": {
    "colab": {
     "base_uri": "https://localhost:8080/"
    },
    "id": "CzAu6qcliqWr",
    "outputId": "f97abf09-be0a-45b3-ae8a-efde8b0d295f"
   },
   "outputs": [
    {
     "data": {
      "text/plain": [
       "dict_values([1, 2, 3])"
      ]
     },
     "execution_count": 7,
     "metadata": {},
     "output_type": "execute_result"
    }
   ],
   "source": [
    "a_dict.values() ### Ensemble des values du dictionnaire"
   ]
  },
  {
   "cell_type": "code",
   "execution_count": null,
   "metadata": {
    "colab": {
     "base_uri": "https://localhost:8080/"
    },
    "id": "iXN6c_FAiwYB",
    "outputId": "14ba63fd-57b7-4713-afb2-64806124954d"
   },
   "outputs": [
    {
     "data": {
      "text/plain": [
       "dict_items([('One', 1), ('Two', 2), ('Three', 3)])"
      ]
     },
     "execution_count": 8,
     "metadata": {},
     "output_type": "execute_result"
    }
   ],
   "source": [
    "a_dict.items() #### Eensemble des clés et valeurs"
   ]
  },
  {
   "cell_type": "code",
   "execution_count": null,
   "metadata": {
    "colab": {
     "base_uri": "https://localhost:8080/"
    },
    "id": "tPqDddeq4SAS",
    "outputId": "2d664b7e-9ed7-4677-bdb9-310fa1e662bc",
    "run_control": {
     "frozen": false,
     "read_only": false
    }
   },
   "outputs": [
    {
     "name": "stdout",
     "output_type": "stream",
     "text": [
      "Key: One has value: 1\n",
      "Key: Two has value: 2\n",
      "Key: Three has value: 3\n"
     ]
    }
   ],
   "source": [
    "for key, val in a_dict.items(): #### POur chaque clé, valeur dans mon objet items\n",
    "    print('Key: {} has value: {}'.format(key, val)) #### j'affiche la str "
   ]
  },
  {
   "cell_type": "code",
   "execution_count": null,
   "metadata": {
    "colab": {
     "base_uri": "https://localhost:8080/"
    },
    "id": "zMq2jJTT4SAT",
    "outputId": "0acd5d1a-2fdb-4605-d9db-51a49162e19c",
    "run_control": {
     "frozen": false,
     "read_only": false
    }
   },
   "outputs": [
    {
     "name": "stdout",
     "output_type": "stream",
     "text": [
      "Key: One\n",
      "Key: Two\n",
      "Key: Three\n"
     ]
    }
   ],
   "source": [
    "for key in a_dict.keys(): #### POur chaque clé du dictionnaire\n",
    "    print('Key: {}'.format(key)) #### J'affiche la clé"
   ]
  },
  {
   "cell_type": "code",
   "execution_count": null,
   "metadata": {
    "colab": {
     "base_uri": "https://localhost:8080/"
    },
    "id": "aklJvhrXjie2",
    "outputId": "c4a6f1ef-0718-4418-b812-d87bfed13f34"
   },
   "outputs": [
    {
     "name": "stdout",
     "output_type": "stream",
     "text": [
      "Value: 1\n",
      "Value: 2\n",
      "Value: 3\n"
     ]
    }
   ],
   "source": [
    "for value in a_dict.values(): #### POur chaque valeur du dictionnaire\n",
    "    print('Value: {}'.format(value)) #### J'affiche la valeur"
   ]
  },
  {
   "cell_type": "markdown",
   "metadata": {
    "id": "GkCMw3Ko4SAU"
   },
   "source": [
    "<div class=\"alert alert-success\">\n",
    "    <b>EXERCISE</b>: Write code that accepts a sentence and calculate the number of letters and digits.<br>\n",
    " \n",
    "Suppose the following input is supplied to the program:<br><br>\n",
    "\n",
    "    \"hello world! 123\"\n",
    "    \n",
    "Then, the output should be:<br>\n",
    "\n",
    "    LETTERS 10<br>\n",
    "    DIGITS 3<br><br>\n",
    "    \n",
    "and store the number of letters and digits in a dictionary d={\"DIGITS\": #digits, \"LETTERS\": #letters}\n",
    "</div>\n"
   ]
  },
  {
   "cell_type": "code",
   "execution_count": null,
   "metadata": {
    "colab": {
     "base_uri": "https://localhost:8080/"
    },
    "id": "DQk991jxkYjB",
    "outputId": "41015399-9309-401c-e42f-355f97dd4365"
   },
   "outputs": [
    {
     "data": {
      "text/plain": [
       "True"
      ]
     },
     "execution_count": 17,
     "metadata": {},
     "output_type": "execute_result"
    }
   ],
   "source": [
    "\"0\".isdigit() #### Interroge python sur la nature de la valeur \"0\" -->"
   ]
  },
  {
   "cell_type": "code",
   "execution_count": null,
   "metadata": {
    "colab": {
     "base_uri": "https://localhost:8080/"
    },
    "id": "oFQD8s-UkpAv",
    "outputId": "0ae298c3-c6c6-4ba7-98a2-f793c97d3e62"
   },
   "outputs": [
    {
     "data": {
      "text/plain": [
       "False"
      ]
     },
     "execution_count": 18,
     "metadata": {},
     "output_type": "execute_result"
    }
   ],
   "source": [
    "\"a\".isdigit() #### a n'est pas un digit"
   ]
  },
  {
   "cell_type": "code",
   "execution_count": null,
   "metadata": {
    "colab": {
     "base_uri": "https://localhost:8080/"
    },
    "id": "GZ3AGgwFkxwg",
    "outputId": "de34f56f-c32f-4a87-bdbc-9877d2945678"
   },
   "outputs": [
    {
     "data": {
      "text/plain": [
       "False"
      ]
     },
     "execution_count": 19,
     "metadata": {},
     "output_type": "execute_result"
    }
   ],
   "source": [
    "\"0\".isalpha() #### Interroger Python: Alphanumeric ?"
   ]
  },
  {
   "cell_type": "code",
   "execution_count": null,
   "metadata": {
    "colab": {
     "base_uri": "https://localhost:8080/"
    },
    "id": "awyL12ZmlCKK",
    "outputId": "adf24f13-432c-4379-e5dd-5ae986d182ec"
   },
   "outputs": [
    {
     "data": {
      "text/plain": [
       "True"
      ]
     },
     "execution_count": 20,
     "metadata": {},
     "output_type": "execute_result"
    }
   ],
   "source": [
    "'b'.isalpha()  #### Alphanumérique"
   ]
  },
  {
   "cell_type": "code",
   "execution_count": null,
   "metadata": {
    "id": "ODAJghVL4SAW"
   },
   "outputs": [],
   "source": [
    "#isdigit()\n",
    "#isalpha()"
   ]
  },
  {
   "cell_type": "code",
   "execution_count": null,
   "metadata": {
    "id": "8KBwojmdlp34"
   },
   "outputs": [],
   "source": [
    "##### 1) Boucle for sur la str\n",
    "##### 2) Condition sur le caractère parcouru\n",
    "##### 3) Incrementer de 1 la valeur de chaque clé en fonction du caractère rencontré"
   ]
  },
  {
   "cell_type": "code",
   "execution_count": null,
   "metadata": {
    "id": "RJWgkkabm0mO"
   },
   "outputs": [],
   "source": [
    "sentence = \"hello world! 123\""
   ]
  },
  {
   "cell_type": "code",
   "execution_count": null,
   "metadata": {
    "colab": {
     "base_uri": "https://localhost:8080/"
    },
    "id": "CIvKNsCKnA2B",
    "outputId": "4aa9b389-201e-4a21-dec3-d3f699225ae4"
   },
   "outputs": [
    {
     "name": "stdout",
     "output_type": "stream",
     "text": [
      "h\n",
      "e\n",
      "l\n",
      "l\n",
      "o\n",
      " \n",
      "w\n",
      "o\n",
      "r\n",
      "l\n",
      "d\n",
      "!\n",
      " \n",
      "1\n",
      "2\n",
      "3\n"
     ]
    }
   ],
   "source": [
    "#### Etape 1: PArcourir les éléments de la str\n",
    "\n",
    "for ele in sentence:\n",
    "  print(ele) #### Chaque lettre de la str sentence"
   ]
  },
  {
   "cell_type": "code",
   "execution_count": null,
   "metadata": {
    "colab": {
     "base_uri": "https://localhost:8080/",
     "height": 35
    },
    "id": "nuvXVE_YrJE7",
    "outputId": "3eb1391d-0ba6-4960-918a-9b366115e588"
   },
   "outputs": [
    {
     "data": {
      "application/vnd.google.colaboratory.intrinsic+json": {
       "type": "string"
      },
      "text/plain": [
       "'hello world! 123'"
      ]
     },
     "execution_count": 25,
     "metadata": {},
     "output_type": "execute_result"
    }
   ],
   "source": [
    "sentence"
   ]
  },
  {
   "cell_type": "code",
   "execution_count": null,
   "metadata": {
    "colab": {
     "base_uri": "https://localhost:8080/"
    },
    "id": "92lHCxyBqhy1",
    "outputId": "74639e82-8e12-4620-88be-ba994670fead"
   },
   "outputs": [
    {
     "name": "stdout",
     "output_type": "stream",
     "text": [
      "h\n",
      "e\n",
      "l\n",
      "l\n",
      "o\n",
      "w\n",
      "o\n",
      "r\n",
      "l\n",
      "d\n",
      "1\n",
      "2\n",
      "3\n"
     ]
    }
   ],
   "source": [
    "#### Etape 2: Condition sur le str parcouru\n",
    "\n",
    "for ele in sentence:\n",
    "  #print(ele) #### Chaque lettre de la str sentence\n",
    "  #### Cas 1: Si le caractère est un digit\n",
    "  if (ele.isdigit() == True):\n",
    "    print(ele) #### Affiche l'élement (modification ensuite en incrémentant la valeur d'un dictionnaire de 1)\n",
    "  #### Cas 2: Si le caractère est un alpha\n",
    "  elif (ele.isalpha() == True):\n",
    "    print(ele) #### Affiche l'élement alpha (modification ensuite en incrémentant la valeur d'un dictionnaire de 1)"
   ]
  },
  {
   "cell_type": "code",
   "execution_count": null,
   "metadata": {
    "colab": {
     "base_uri": "https://localhost:8080/",
     "height": 35
    },
    "id": "UNR0LcnKr49z",
    "outputId": "7344cb2d-ed0d-4a48-e152-0a43c0ba9c70"
   },
   "outputs": [
    {
     "data": {
      "application/vnd.google.colaboratory.intrinsic+json": {
       "type": "string"
      },
      "text/plain": [
       "'hello world! 123'"
      ]
     },
     "execution_count": 27,
     "metadata": {},
     "output_type": "execute_result"
    }
   ],
   "source": [
    "sentence"
   ]
  },
  {
   "cell_type": "code",
   "execution_count": null,
   "metadata": {
    "id": "bSm8sCdPrl_b"
   },
   "outputs": [],
   "source": [
    "#### Etape 3:\n",
    "\n",
    "#### Initialisation d'un dictionnaire\n",
    "\n",
    "d={\"DIGITS\": 0, \"LETTERS\": 0 }\n",
    "\n",
    "#### Parcours des valeurs et incrémentation de 1 des valeurs de clés du dictionnaire\n",
    "\n",
    "for ele in sentence:\n",
    "  #print(ele) #### Chaque lettre de la str sentence\n",
    "  #### Cas 1: Si le caractère est un digit\n",
    "  if (ele.isdigit() == True):\n",
    "    #print(ele) #### Affiche l'élement (modification ensuite en incrémentant la valeur d'un dictionnaire de 1)\n",
    "    d[\"DIGITS\"] = d[\"DIGITS\"] + 1\n",
    "  #### Cas 2: Si le caractère est un alpha\n",
    "  elif (ele.isalpha() == True):\n",
    "    #print(ele) #### Affiche l'élement alpha (modification ensuite en incrémentant la valeur d'un dictionnaire de 1)\n",
    "    d[\"LETTERS\"] = d[\"LETTERS\"] + 1"
   ]
  },
  {
   "cell_type": "code",
   "execution_count": null,
   "metadata": {
    "colab": {
     "base_uri": "https://localhost:8080/"
    },
    "id": "rLRWx8MYskI2",
    "outputId": "f5f82e19-c0b2-44f0-a097-e26dede2ba5d"
   },
   "outputs": [
    {
     "data": {
      "text/plain": [
       "{'DIGITS': 3, 'LETTERS': 10}"
      ]
     },
     "execution_count": 29,
     "metadata": {},
     "output_type": "execute_result"
    }
   ],
   "source": [
    "d"
   ]
  },
  {
   "cell_type": "code",
   "execution_count": null,
   "metadata": {
    "colab": {
     "base_uri": "https://localhost:8080/",
     "height": 35
    },
    "id": "1gzJT4JKs8P3",
    "outputId": "4582b7c4-8b38-4ebc-dae2-22c27ee73b91"
   },
   "outputs": [
    {
     "data": {
      "application/vnd.google.colaboratory.intrinsic+json": {
       "type": "string"
      },
      "text/plain": [
       "'hello world! 123'"
      ]
     },
     "execution_count": 30,
     "metadata": {},
     "output_type": "execute_result"
    }
   ],
   "source": [
    "sentence"
   ]
  },
  {
   "cell_type": "code",
   "execution_count": null,
   "metadata": {
    "id": "W9kYBLi8s3OP"
   },
   "outputs": [],
   "source": [
    "#### ETape 4: Caractère non digit et non alpha\n",
    "\n",
    "#### Initialisation d'un dictionnaire avec 3 clés\n",
    "\n",
    "d={\"DIGITS\": 0, \"LETTERS\": 0 , \"OTHERS\": 0}\n",
    "\n",
    "#### Parcours des valeurs et incrémentation de 1 des valeurs de clés du dictionnaire\n",
    "\n",
    "for ele in sentence:\n",
    "  #print(ele) #### Chaque lettre de la str sentence\n",
    "  #### Cas 1: Si le caractère est un digit\n",
    "  if (ele.isdigit() == True):\n",
    "    #print(ele) #### Affiche l'élement (modification ensuite en incrémentant la valeur d'un dictionnaire de 1)\n",
    "    d[\"DIGITS\"] = d[\"DIGITS\"] + 1\n",
    "  #### Cas 2: Si le caractère est un alpha\n",
    "  elif (ele.isalpha() == True):\n",
    "    #print(ele) #### Affiche l'élement alpha (modification ensuite en incrémentant la valeur d'un dictionnaire de 1)\n",
    "    d[\"LETTERS\"] = d[\"LETTERS\"] + 1\n",
    "  else:\n",
    "    d[\"OTHERS\"] = d[\"OTHERS\"] + 1 #### J'ajoute 1 à mon compteur others si le caratère n'est ni digit ni letters"
   ]
  },
  {
   "cell_type": "code",
   "execution_count": null,
   "metadata": {
    "colab": {
     "base_uri": "https://localhost:8080/"
    },
    "id": "ZiqQ24d2tcik",
    "outputId": "5ef3d110-49e7-4709-ae48-a095e8ef5423"
   },
   "outputs": [
    {
     "data": {
      "text/plain": [
       "{'DIGITS': 3, 'LETTERS': 10, 'OTHERS': 3}"
      ]
     },
     "execution_count": 32,
     "metadata": {},
     "output_type": "execute_result"
    }
   ],
   "source": [
    "d"
   ]
  },
  {
   "cell_type": "markdown",
   "metadata": {
    "id": "dlmibl_h4SAd"
   },
   "source": [
    "---------------------"
   ]
  },
  {
   "cell_type": "markdown",
   "metadata": {
    "collapsed": true,
    "id": "WSv_caGn4SAe"
   },
   "source": [
    "## Exception handling"
   ]
  },
  {
   "cell_type": "markdown",
   "metadata": {
    "collapsed": true,
    "id": "2AgWqKhg4SAf"
   },
   "source": [
    "Exceptions are raised by errors in Python:"
   ]
  },
  {
   "cell_type": "code",
   "execution_count": null,
   "metadata": {
    "id": "A4Uq9Ac54SAj",
    "run_control": {
     "frozen": false,
     "read_only": false
    }
   },
   "outputs": [],
   "source": [
    "# 1/0 # uncomment this cell"
   ]
  },
  {
   "cell_type": "code",
   "execution_count": null,
   "metadata": {
    "id": "CUoyhZae4SAl",
    "run_control": {
     "frozen": false,
     "read_only": false
    }
   },
   "outputs": [],
   "source": [
    "## uncomment the following lines in this cell\n",
    "#d = {1:1, 2:2}  \n",
    "#d[3]"
   ]
  },
  {
   "cell_type": "code",
   "execution_count": null,
   "metadata": {
    "id": "oQoPZOo44SAn",
    "run_control": {
     "frozen": false,
     "read_only": false
    }
   },
   "outputs": [],
   "source": [
    "## uncomment the following lines in this cell\n",
    "#l = [1, 2, 3]\n",
    "#l.foobar"
   ]
  },
  {
   "cell_type": "markdown",
   "metadata": {
    "collapsed": true,
    "id": "mwqHOj8i4SAn"
   },
   "source": [
    "As you can see, there are **different types of exceptions** for different errors."
   ]
  },
  {
   "cell_type": "markdown",
   "metadata": {
    "id": "CBHPo8Ww4SAo"
   },
   "source": [
    "### raise Exception"
   ]
  },
  {
   "cell_type": "code",
   "execution_count": 16,
   "metadata": {
    "colab": {
     "base_uri": "https://localhost:8080/",
     "height": 195
    },
    "id": "vHJfCNQL4SAp",
    "outputId": "a897a156-e094-40f1-ee77-32a434c63723",
    "run_control": {
     "frozen": false,
     "read_only": false
    }
   },
   "outputs": [
    {
     "ename": "Exception",
     "evalue": "ignored",
     "output_type": "error",
     "traceback": [
      "\u001b[0;31m---------------------------------------------------------------------------\u001b[0m",
      "\u001b[0;31mException\u001b[0m                                 Traceback (most recent call last)",
      "\u001b[0;32m<ipython-input-16-31fdf75bf286>\u001b[0m in \u001b[0;36m<module>\u001b[0;34m()\u001b[0m\n\u001b[1;32m      1\u001b[0m \u001b[0mk\u001b[0m \u001b[0;34m=\u001b[0m \u001b[0;36m2\u001b[0m   \u001b[0;31m# test yourself with integer value, e.g. 3\u001b[0m\u001b[0;34m\u001b[0m\u001b[0;34m\u001b[0m\u001b[0m\n\u001b[1;32m      2\u001b[0m \u001b[0;32mif\u001b[0m \u001b[0;32mnot\u001b[0m \u001b[0misinstance\u001b[0m\u001b[0;34m(\u001b[0m\u001b[0mk\u001b[0m\u001b[0;34m,\u001b[0m \u001b[0mstr\u001b[0m\u001b[0;34m)\u001b[0m\u001b[0;34m:\u001b[0m\u001b[0;34m\u001b[0m\u001b[0;34m\u001b[0m\u001b[0m\n\u001b[0;32m----> 3\u001b[0;31m     \u001b[0;32mraise\u001b[0m \u001b[0mException\u001b[0m\u001b[0;34m(\u001b[0m\u001b[0;34m'Provide a string as input!{}'\u001b[0m\u001b[0;34m.\u001b[0m\u001b[0mformat\u001b[0m\u001b[0;34m(\u001b[0m\u001b[0mk\u001b[0m\u001b[0;34m)\u001b[0m\u001b[0;34m)\u001b[0m\u001b[0;34m\u001b[0m\u001b[0;34m\u001b[0m\u001b[0m\n\u001b[0m",
      "\u001b[0;31mException\u001b[0m: Provide a string as input!2"
     ]
    }
   ],
   "source": [
    "k = 2   # test yourself with integer value, e.g. 3\n",
    "if not isinstance(k, str):\n",
    "    raise Exception('Provide a string as input!{}'.format(k))"
   ]
  },
  {
   "cell_type": "markdown",
   "metadata": {
    "id": "1FtpRSEf4SAs"
   },
   "source": [
    "You can also be more precise about the type of error, eg. TypeError. A list of default provided exceptions is given here: https://docs.python.org/2/library/exceptions.html"
   ]
  },
  {
   "cell_type": "markdown",
   "metadata": {
    "collapsed": true,
    "id": "ZoLGUIBX4SAu"
   },
   "source": [
    "### try/except: catching exceptions"
   ]
  },
  {
   "cell_type": "markdown",
   "metadata": {
    "collapsed": true,
    "id": "vCZOV1ZG4SAu"
   },
   "source": [
    "> try:\n",
    "\n",
    ">     do something\n",
    "\n",
    "> except:\n",
    "\n",
    ">     do this if the other was raising an error"
   ]
  },
  {
   "cell_type": "markdown",
   "metadata": {
    "id": "_1WmUmAJ4SAv"
   },
   "source": [
    "Different exceptions can be combined, rasingin different type of errors:"
   ]
  },
  {
   "cell_type": "code",
   "execution_count": 1,
   "metadata": {
    "colab": {
     "base_uri": "https://localhost:8080/",
     "height": 162
    },
    "id": "kMLcTxeXulJp",
    "outputId": "295d6ba9-17c8-4c66-c40c-d2d0c7847c15"
   },
   "outputs": [
    {
     "ename": "ValueError",
     "evalue": "ignored",
     "output_type": "error",
     "traceback": [
      "\u001b[0;31m---------------------------------------------------------------------------\u001b[0m",
      "\u001b[0;31mValueError\u001b[0m                                Traceback (most recent call last)",
      "\u001b[0;32m<ipython-input-1-5b95b22b5514>\u001b[0m in \u001b[0;36m<module>\u001b[0;34m()\u001b[0m\n\u001b[0;32m----> 1\u001b[0;31m \u001b[0mint\u001b[0m\u001b[0;34m(\u001b[0m\u001b[0;34m\"f6\"\u001b[0m\u001b[0;34m)\u001b[0m\u001b[0;34m\u001b[0m\u001b[0;34m\u001b[0m\u001b[0m\n\u001b[0m",
      "\u001b[0;31mValueError\u001b[0m: invalid literal for int() with base 10: 'f6'"
     ]
    }
   ],
   "source": [
    "int(\"f6\")"
   ]
  },
  {
   "cell_type": "code",
   "execution_count": 3,
   "metadata": {
    "colab": {
     "base_uri": "https://localhost:8080/"
    },
    "id": "JYl4ZPXsusDX",
    "outputId": "fecf9cfc-b42c-44fa-8c65-b7587a44be0a"
   },
   "outputs": [
    {
     "data": {
      "text/plain": [
       "['1', '56', 'f3', '34']"
      ]
     },
     "execution_count": 3,
     "metadata": {},
     "output_type": "execute_result"
    }
   ],
   "source": [
    "a = [\"1\", \"56\",\"f3\", \"34\"]\n",
    "a\n"
   ]
  },
  {
   "cell_type": "code",
   "execution_count": 4,
   "metadata": {
    "colab": {
     "base_uri": "https://localhost:8080/",
     "height": 212
    },
    "id": "XbFMnl2bu5RX",
    "outputId": "d741ab6f-ad76-4730-aaf6-fe72b88c0ffb"
   },
   "outputs": [
    {
     "name": "stdout",
     "output_type": "stream",
     "text": [
      "1\n",
      "56\n"
     ]
    },
    {
     "ename": "ValueError",
     "evalue": "ignored",
     "output_type": "error",
     "traceback": [
      "\u001b[0;31m---------------------------------------------------------------------------\u001b[0m",
      "\u001b[0;31mValueError\u001b[0m                                Traceback (most recent call last)",
      "\u001b[0;32m<ipython-input-4-260f4f6dfe3d>\u001b[0m in \u001b[0;36m<module>\u001b[0;34m()\u001b[0m\n\u001b[1;32m      1\u001b[0m \u001b[0;32mfor\u001b[0m \u001b[0mele\u001b[0m \u001b[0;32min\u001b[0m \u001b[0ma\u001b[0m\u001b[0;34m:\u001b[0m \u001b[0;31m#### Pour chaque élement de l'objet\u001b[0m\u001b[0;34m\u001b[0m\u001b[0;34m\u001b[0m\u001b[0m\n\u001b[0;32m----> 2\u001b[0;31m   \u001b[0mprint\u001b[0m\u001b[0;34m(\u001b[0m\u001b[0mint\u001b[0m\u001b[0;34m(\u001b[0m\u001b[0mele\u001b[0m\u001b[0;34m)\u001b[0m\u001b[0;34m)\u001b[0m \u001b[0;31m#### casting de l'élement en int --> Erreur et fin de la boucle\u001b[0m\u001b[0;34m\u001b[0m\u001b[0;34m\u001b[0m\u001b[0m\n\u001b[0m",
      "\u001b[0;31mValueError\u001b[0m: invalid literal for int() with base 10: 'f3'"
     ]
    }
   ],
   "source": [
    "for ele in a: #### Pour chaque élement de l'objet\n",
    "  print(int(ele)) #### casting de l'élement en int --> Erreur et fin de la boucle"
   ]
  },
  {
   "cell_type": "code",
   "execution_count": 5,
   "metadata": {
    "colab": {
     "base_uri": "https://localhost:8080/"
    },
    "id": "0Z97-6Zovm2h",
    "outputId": "32080798-57c2-4569-af44-74e3ed376785"
   },
   "outputs": [
    {
     "data": {
      "text/plain": [
       "['1', '56', 'f3', '34']"
      ]
     },
     "execution_count": 5,
     "metadata": {},
     "output_type": "execute_result"
    }
   ],
   "source": [
    "a "
   ]
  },
  {
   "cell_type": "code",
   "execution_count": 8,
   "metadata": {
    "colab": {
     "base_uri": "https://localhost:8080/"
    },
    "id": "8svaAGvDvk69",
    "outputId": "75979aae-3f17-4b7f-bdd8-8cb6f93b7ee8"
   },
   "outputs": [
    {
     "name": "stdout",
     "output_type": "stream",
     "text": [
      "1\n",
      "56\n",
      "34\n"
     ]
    }
   ],
   "source": [
    "convert = []\n",
    "for ele in a: ##### POur chauque élement de k'objet\n",
    "  try: #### Opération à appliquer\n",
    "    print(int(ele)) ### J'affiche l'élement en enier dans la console\n",
    "    convert.append(ele)\n",
    "  except ValueError: ### Exception:Si on rencontre une erreur du type Value Error\n",
    "    continue #### Opérateur Continue (Passer à l'élement d'après)"
   ]
  },
  {
   "cell_type": "code",
   "execution_count": 8,
   "metadata": {
    "id": "kQuFwxkRf7iL"
   },
   "outputs": [],
   "source": [
    ""
   ]
  },
  {
   "cell_type": "code",
   "execution_count": 9,
   "metadata": {
    "colab": {
     "base_uri": "https://localhost:8080/"
    },
    "id": "me_eJs7vwuxA",
    "outputId": "dfa69182-68e2-4af5-897c-d377b723022d"
   },
   "outputs": [
    {
     "data": {
      "text/plain": [
       "['1', '56', '34']"
      ]
     },
     "execution_count": 9,
     "metadata": {},
     "output_type": "execute_result"
    }
   ],
   "source": [
    "convert"
   ]
  },
  {
   "cell_type": "code",
   "execution_count": 13,
   "metadata": {
    "colab": {
     "base_uri": "https://localhost:8080/"
    },
    "id": "A8iusdvn4SAw",
    "outputId": "6af994bb-26fb-4816-ab17-68d8d221d3ab",
    "run_control": {
     "frozen": false,
     "read_only": false
    }
   },
   "outputs": [
    {
     "name": "stdout",
     "output_type": "stream",
     "text": [
      "Unexpected error: <class 'TypeError'>\n"
     ]
    }
   ],
   "source": [
    "k = [\"A\", \"B\"]\n",
    "#k = \"3y\"\n",
    "import sys\n",
    "try:\n",
    "    i = int(k)\n",
    "except ValueError:\n",
    "    print(\"Could not convert data to an integer.\")\n",
    "except:\n",
    "    print(\"Unexpected error:\", sys.exc_info()[0])\n",
    "    #raise\n",
    "    "
   ]
  },
  {
   "cell_type": "code",
   "execution_count": null,
   "metadata": {
    "id": "_YVVrqt-gcv4"
   },
   "outputs": [],
   "source": [
    ""
   ]
  }
 ],
 "metadata": {
  "colab": {
   "collapsed_sections": [],
   "name": "02-control_flow-Enoncé (1) (3).ipynb",
   "provenance": []
  },
  "kernelspec": {
   "display_name": "Python 3",
   "language": "python",
   "name": "python3"
  },
  "language_info": {
   "codemirror_mode": {
    "name": "ipython",
    "version": 3
   },
   "file_extension": ".py",
   "mimetype": "text/x-python",
   "name": "python",
   "nbconvert_exporter": "python",
   "pygments_lexer": "ipython3",
   "version": "3.8.3"
  },
  "nav_menu": {},
  "toc": {
   "navigate_menu": true,
   "number_sections": true,
   "sideBar": true,
   "threshold": 6,
   "toc_cell": false,
   "toc_section_display": "block",
   "toc_window_display": false
  }
 },
 "nbformat": 4,
 "nbformat_minor": 0
}
